{
 "cells": [
  {
   "cell_type": "markdown",
   "metadata": {},
   "source": [
    "# Crop Science Warehouse Workspace"
   ]
  },
  {
   "cell_type": "code",
   "execution_count": 12,
   "metadata": {
    "scrolled": true
   },
   "outputs": [
    {
     "name": "stdout",
     "output_type": "stream",
     "text": [
      "Collecting pandas-gbq\n",
      "  Downloading pandas_gbq-0.19.2-py2.py3-none-any.whl (25 kB)\n",
      "Requirement already satisfied: pyarrow>=3.0.0 in c:\\users\\goqiw\\appdata\\local\\anaconda3\\lib\\site-packages (from pandas-gbq) (7.0.0)\n",
      "Requirement already satisfied: setuptools in c:\\users\\goqiw\\appdata\\local\\anaconda3\\lib\\site-packages (from pandas-gbq) (65.6.3)\n",
      "Collecting pydata-google-auth>=1.5.0\n",
      "  Using cached pydata_google_auth-1.8.0-py2.py3-none-any.whl (14 kB)\n",
      "Requirement already satisfied: pandas>=1.1.4 in c:\\users\\goqiw\\appdata\\local\\anaconda3\\lib\\site-packages (from pandas-gbq) (1.5.3)\n",
      "Requirement already satisfied: db-dtypes<2.0.0,>=1.0.4 in c:\\users\\goqiw\\appdata\\local\\anaconda3\\lib\\site-packages (from pandas-gbq) (1.1.1)\n",
      "Requirement already satisfied: google-api-core<3.0.0dev,>=2.10.2 in c:\\users\\goqiw\\appdata\\local\\anaconda3\\lib\\site-packages (from pandas-gbq) (2.10.2)\n",
      "Collecting google-auth-oauthlib>=0.7.0\n",
      "  Using cached google_auth_oauthlib-1.0.0-py2.py3-none-any.whl (18 kB)\n",
      "Requirement already satisfied: numpy>=1.16.6 in c:\\users\\goqiw\\appdata\\local\\anaconda3\\lib\\site-packages (from pandas-gbq) (1.23.5)\n",
      "Collecting google-cloud-bigquery!=2.4.*,<4.0.0dev,>=3.3.5\n",
      "  Using cached google_cloud_bigquery-3.11.1-py2.py3-none-any.whl (219 kB)\n",
      "Requirement already satisfied: google-cloud-bigquery-storage<3.0.0dev,>=2.16.2 in c:\\users\\goqiw\\appdata\\local\\anaconda3\\lib\\site-packages (from pandas-gbq) (2.16.2)\n",
      "Collecting google-auth>=2.13.0\n",
      "  Using cached google_auth-2.20.0-py2.py3-none-any.whl (181 kB)\n",
      "Requirement already satisfied: packaging>=17.0 in c:\\users\\goqiw\\appdata\\local\\anaconda3\\lib\\site-packages (from db-dtypes<2.0.0,>=1.0.4->pandas-gbq) (22.0)\n",
      "Requirement already satisfied: protobuf!=3.20.0,!=3.20.1,!=4.21.0,!=4.21.1,!=4.21.2,!=4.21.3,!=4.21.4,!=4.21.5,<5.0.0dev,>=3.19.5 in c:\\users\\goqiw\\appdata\\local\\anaconda3\\lib\\site-packages (from google-api-core<3.0.0dev,>=2.10.2->pandas-gbq) (4.23.3)\n",
      "Requirement already satisfied: requests<3.0.0dev,>=2.18.0 in c:\\users\\goqiw\\appdata\\local\\anaconda3\\lib\\site-packages (from google-api-core<3.0.0dev,>=2.10.2->pandas-gbq) (2.28.1)\n",
      "Requirement already satisfied: googleapis-common-protos<2.0dev,>=1.56.2 in c:\\users\\goqiw\\appdata\\local\\anaconda3\\lib\\site-packages (from google-api-core<3.0.0dev,>=2.10.2->pandas-gbq) (1.59.1)\n",
      "Requirement already satisfied: urllib3<2.0 in c:\\users\\goqiw\\appdata\\local\\anaconda3\\lib\\site-packages (from google-auth>=2.13.0->pandas-gbq) (1.26.14)\n",
      "Requirement already satisfied: pyasn1-modules>=0.2.1 in c:\\users\\goqiw\\appdata\\local\\anaconda3\\lib\\site-packages (from google-auth>=2.13.0->pandas-gbq) (0.2.8)\n",
      "Requirement already satisfied: rsa<5,>=3.1.4 in c:\\users\\goqiw\\appdata\\local\\anaconda3\\lib\\site-packages (from google-auth>=2.13.0->pandas-gbq) (4.9)\n",
      "Requirement already satisfied: cachetools<6.0,>=2.0.0 in c:\\users\\goqiw\\appdata\\local\\anaconda3\\lib\\site-packages (from google-auth>=2.13.0->pandas-gbq) (4.2.4)\n",
      "Requirement already satisfied: six>=1.9.0 in c:\\users\\goqiw\\appdata\\local\\anaconda3\\lib\\site-packages (from google-auth>=2.13.0->pandas-gbq) (1.16.0)\n",
      "Requirement already satisfied: requests-oauthlib>=0.7.0 in c:\\users\\goqiw\\appdata\\local\\anaconda3\\lib\\site-packages (from google-auth-oauthlib>=0.7.0->pandas-gbq) (1.3.1)\n",
      "Requirement already satisfied: proto-plus<2.0.0dev,>=1.15.0 in c:\\users\\goqiw\\appdata\\local\\anaconda3\\lib\\site-packages (from google-cloud-bigquery!=2.4.*,<4.0.0dev,>=3.3.5->pandas-gbq) (1.22.2)\n",
      "Requirement already satisfied: google-resumable-media<3.0dev,>=0.6.0 in c:\\users\\goqiw\\appdata\\local\\anaconda3\\lib\\site-packages (from google-cloud-bigquery!=2.4.*,<4.0.0dev,>=3.3.5->pandas-gbq) (2.5.0)\n",
      "Requirement already satisfied: grpcio<2.0dev,>=1.47.0 in c:\\users\\goqiw\\appdata\\local\\anaconda3\\lib\\site-packages (from google-cloud-bigquery!=2.4.*,<4.0.0dev,>=3.3.5->pandas-gbq) (1.54.2)\n",
      "Requirement already satisfied: python-dateutil<3.0dev,>=2.7.2 in c:\\users\\goqiw\\appdata\\local\\anaconda3\\lib\\site-packages (from google-cloud-bigquery!=2.4.*,<4.0.0dev,>=3.3.5->pandas-gbq) (2.8.2)\n",
      "Requirement already satisfied: google-cloud-core<3.0.0dev,>=1.6.0 in c:\\users\\goqiw\\appdata\\local\\anaconda3\\lib\\site-packages (from google-cloud-bigquery!=2.4.*,<4.0.0dev,>=3.3.5->pandas-gbq) (2.3.2)\n",
      "Requirement already satisfied: pytz>=2020.1 in c:\\users\\goqiw\\appdata\\local\\anaconda3\\lib\\site-packages (from pandas>=1.1.4->pandas-gbq) (2022.7)\n",
      "Requirement already satisfied: grpcio-status<2.0dev,>=1.33.2 in c:\\users\\goqiw\\appdata\\local\\anaconda3\\lib\\site-packages (from google-api-core<3.0.0dev,>=2.10.2->pandas-gbq) (1.54.2)\n",
      "Requirement already satisfied: google-crc32c<2.0dev,>=1.0 in c:\\users\\goqiw\\appdata\\local\\anaconda3\\lib\\site-packages (from google-resumable-media<3.0dev,>=0.6.0->google-cloud-bigquery!=2.4.*,<4.0.0dev,>=3.3.5->pandas-gbq) (1.5.0)\n",
      "Requirement already satisfied: pyasn1<0.5.0,>=0.4.6 in c:\\users\\goqiw\\appdata\\local\\anaconda3\\lib\\site-packages (from pyasn1-modules>=0.2.1->google-auth>=2.13.0->pandas-gbq) (0.4.8)\n",
      "Requirement already satisfied: idna<4,>=2.5 in c:\\users\\goqiw\\appdata\\local\\anaconda3\\lib\\site-packages (from requests<3.0.0dev,>=2.18.0->google-api-core<3.0.0dev,>=2.10.2->pandas-gbq) (3.4)\n",
      "Requirement already satisfied: charset-normalizer<3,>=2 in c:\\users\\goqiw\\appdata\\local\\anaconda3\\lib\\site-packages (from requests<3.0.0dev,>=2.18.0->google-api-core<3.0.0dev,>=2.10.2->pandas-gbq) (2.0.4)\n",
      "Requirement already satisfied: certifi>=2017.4.17 in c:\\users\\goqiw\\appdata\\local\\anaconda3\\lib\\site-packages (from requests<3.0.0dev,>=2.18.0->google-api-core<3.0.0dev,>=2.10.2->pandas-gbq) (2022.12.7)\n",
      "Requirement already satisfied: oauthlib>=3.0.0 in c:\\users\\goqiw\\appdata\\local\\anaconda3\\lib\\site-packages (from requests-oauthlib>=0.7.0->google-auth-oauthlib>=0.7.0->pandas-gbq) (3.2.2)\n",
      "Installing collected packages: google-auth, google-auth-oauthlib, pydata-google-auth, google-cloud-bigquery, pandas-gbq\n",
      "  Attempting uninstall: google-auth\n",
      "    Found existing installation: google-auth 2.6.2\n",
      "    Uninstalling google-auth-2.6.2:\n",
      "      Successfully uninstalled google-auth-2.6.2\n",
      "  Attempting uninstall: google-auth-oauthlib\n",
      "    Found existing installation: google-auth-oauthlib 0.5.1\n",
      "    Uninstalling google-auth-oauthlib-0.5.1:\n",
      "      Successfully uninstalled google-auth-oauthlib-0.5.1\n",
      "  Attempting uninstall: pydata-google-auth\n",
      "    Found existing installation: pydata-google-auth 1.4.0\n",
      "    Uninstalling pydata-google-auth-1.4.0:\n",
      "      Successfully uninstalled pydata-google-auth-1.4.0\n",
      "  Attempting uninstall: google-cloud-bigquery\n",
      "    Found existing installation: google-cloud-bigquery 3.0.1\n",
      "    Uninstalling google-cloud-bigquery-3.0.1:\n",
      "      Successfully uninstalled google-cloud-bigquery-3.0.1\n",
      "Successfully installed google-auth-2.20.0 google-auth-oauthlib-1.0.0 google-cloud-bigquery-3.11.1 pandas-gbq-0.19.2 pydata-google-auth-1.8.0\n"
     ]
    }
   ],
   "source": [
    "#!pip install pandas-gbq"
   ]
  },
  {
   "cell_type": "markdown",
   "metadata": {},
   "source": [
    "Set the CSW project and the output file you want to use. The file path can be compressed, plain text, local, or in S3:"
   ]
  },
  {
   "cell_type": "code",
   "execution_count": 1,
   "metadata": {},
   "outputs": [],
   "source": [
    "project=\"bcs-biotech-data-mart-np\"\n",
    "output_file=\"../Data/test_file.tsv\"\n",
    "import time"
   ]
  },
  {
   "cell_type": "markdown",
   "metadata": {},
   "source": [
    "Run the block below to authenticate. If prompted, click the link, log into Google using your Bayer email, and then copy and paste the provided token into the text field"
   ]
  },
  {
   "cell_type": "code",
   "execution_count": 2,
   "metadata": {},
   "outputs": [
    {
     "name": "stderr",
     "output_type": "stream",
     "text": [
      "C:\\Users\\GOQIW\\AppData\\Local\\anaconda3\\lib\\site-packages\\paramiko\\transport.py:219: CryptographyDeprecationWarning: Blowfish has been deprecated\n",
      "  \"class\": algorithms.Blowfish,\n"
     ]
    }
   ],
   "source": [
    "from google.cloud import bigquery\n",
    "import smart_open\n",
    "import pydata_google_auth\n",
    "import pandas as pd\n",
    "import pandas_gbq"
   ]
  },
  {
   "cell_type": "code",
   "execution_count": 3,
   "metadata": {},
   "outputs": [],
   "source": [
    "credentials = pydata_google_auth.get_user_credentials(\n",
    "    ['https://www.googleapis.com/auth/bigquery'],\n",
    ")"
   ]
  },
  {
   "cell_type": "code",
   "execution_count": 4,
   "metadata": {},
   "outputs": [],
   "source": [
    "# SQL Query to get the RAW data out of BigQuery\n",
    "sql_query = '''\n",
    "SELECT *\n",
    "    from controlled_environment.all_answers   \n",
    "'''"
   ]
  },
  {
   "cell_type": "code",
   "execution_count": 5,
   "metadata": {},
   "outputs": [],
   "source": [
    "#Run the query and download the result handle\n",
    "client = bigquery.Client(credentials=credentials, project=project)\n",
    "results = client.query(sql_query).result()"
   ]
  },
  {
   "cell_type": "code",
   "execution_count": 6,
   "metadata": {
    "scrolled": true
   },
   "outputs": [
    {
     "name": "stdout",
     "output_type": "stream",
     "text": [
      "100.0%\r\n"
     ]
    }
   ],
   "source": [
    "# Write the results to the output file\n",
    "writer = smart_open.open(output_file, 'w')\n",
    "i = 0\n",
    "for row in results:\n",
    "    i += 1\n",
    "    if i==1:\n",
    "        writer.write(\"\\t\".join(row.keys()) + \"\\n\")\n",
    "    if (100 * i/results.total_rows) % 5 == 0:\n",
    "        print(str(100 * i/results.total_rows) + \"%\\r\")\n",
    "    writer.write(\"\\t\".join(map(lambda x: str(x) ,row.values())) + \"\\n\")\n",
    "writer.close()"
   ]
  },
  {
   "cell_type": "code",
   "execution_count": 7,
   "metadata": {},
   "outputs": [],
   "source": [
    "# get the data into dataframe\n",
    "df = pd.read_csv('../Data/test_file.tsv', sep = '\\t')"
   ]
  },
  {
   "cell_type": "code",
   "execution_count": 8,
   "metadata": {},
   "outputs": [
    {
     "data": {
      "text/html": [
       "<div>\n",
       "<style scoped>\n",
       "    .dataframe tbody tr th:only-of-type {\n",
       "        vertical-align: middle;\n",
       "    }\n",
       "\n",
       "    .dataframe tbody tr th {\n",
       "        vertical-align: top;\n",
       "    }\n",
       "\n",
       "    .dataframe thead th {\n",
       "        text-align: right;\n",
       "    }\n",
       "</style>\n",
       "<table border=\"1\" class=\"dataframe\">\n",
       "  <thead>\n",
       "    <tr style=\"text-align: right;\">\n",
       "      <th></th>\n",
       "      <th>answer</th>\n",
       "      <th>setInfo</th>\n",
       "    </tr>\n",
       "  </thead>\n",
       "  <tbody>\n",
       "    <tr>\n",
       "      <th>0</th>\n",
       "      <td>{'aggregation': {'collectionId': None, 'type':...</td>\n",
       "      <td>{'capacityRequest': {'id': Decimal('56348'), '...</td>\n",
       "    </tr>\n",
       "    <tr>\n",
       "      <th>1</th>\n",
       "      <td>{'aggregation': {'collectionId': None, 'type':...</td>\n",
       "      <td>{'capacityRequest': {'id': Decimal('56348'), '...</td>\n",
       "    </tr>\n",
       "    <tr>\n",
       "      <th>2</th>\n",
       "      <td>{'aggregation': {'collectionId': None, 'type':...</td>\n",
       "      <td>{'capacityRequest': {'id': Decimal('56348'), '...</td>\n",
       "    </tr>\n",
       "    <tr>\n",
       "      <th>3</th>\n",
       "      <td>{'aggregation': {'collectionId': None, 'type':...</td>\n",
       "      <td>{'capacityRequest': {'id': Decimal('56348'), '...</td>\n",
       "    </tr>\n",
       "    <tr>\n",
       "      <th>4</th>\n",
       "      <td>{'aggregation': {'collectionId': None, 'type':...</td>\n",
       "      <td>{'capacityRequest': {'id': Decimal('56348'), '...</td>\n",
       "    </tr>\n",
       "    <tr>\n",
       "      <th>...</th>\n",
       "      <td>...</td>\n",
       "      <td>...</td>\n",
       "    </tr>\n",
       "    <tr>\n",
       "      <th>328</th>\n",
       "      <td>{'aggregation': {'collectionId': None, 'type':...</td>\n",
       "      <td>{'capacityRequest': {'id': Decimal('119594'), ...</td>\n",
       "    </tr>\n",
       "    <tr>\n",
       "      <th>329</th>\n",
       "      <td>{'aggregation': {'collectionId': None, 'type':...</td>\n",
       "      <td>{'capacityRequest': {'id': Decimal('119594'), ...</td>\n",
       "    </tr>\n",
       "    <tr>\n",
       "      <th>330</th>\n",
       "      <td>{'aggregation': {'collectionId': None, 'type':...</td>\n",
       "      <td>{'capacityRequest': {'id': Decimal('119594'), ...</td>\n",
       "    </tr>\n",
       "    <tr>\n",
       "      <th>331</th>\n",
       "      <td>{'aggregation': {'collectionId': None, 'type':...</td>\n",
       "      <td>{'capacityRequest': {'id': Decimal('119594'), ...</td>\n",
       "    </tr>\n",
       "    <tr>\n",
       "      <th>332</th>\n",
       "      <td>{'aggregation': {'collectionId': None, 'type':...</td>\n",
       "      <td>{'capacityRequest': {'id': Decimal('119594'), ...</td>\n",
       "    </tr>\n",
       "  </tbody>\n",
       "</table>\n",
       "<p>333 rows × 2 columns</p>\n",
       "</div>"
      ],
      "text/plain": [
       "                                                answer  \\\n",
       "0    {'aggregation': {'collectionId': None, 'type':...   \n",
       "1    {'aggregation': {'collectionId': None, 'type':...   \n",
       "2    {'aggregation': {'collectionId': None, 'type':...   \n",
       "3    {'aggregation': {'collectionId': None, 'type':...   \n",
       "4    {'aggregation': {'collectionId': None, 'type':...   \n",
       "..                                                 ...   \n",
       "328  {'aggregation': {'collectionId': None, 'type':...   \n",
       "329  {'aggregation': {'collectionId': None, 'type':...   \n",
       "330  {'aggregation': {'collectionId': None, 'type':...   \n",
       "331  {'aggregation': {'collectionId': None, 'type':...   \n",
       "332  {'aggregation': {'collectionId': None, 'type':...   \n",
       "\n",
       "                                               setInfo  \n",
       "0    {'capacityRequest': {'id': Decimal('56348'), '...  \n",
       "1    {'capacityRequest': {'id': Decimal('56348'), '...  \n",
       "2    {'capacityRequest': {'id': Decimal('56348'), '...  \n",
       "3    {'capacityRequest': {'id': Decimal('56348'), '...  \n",
       "4    {'capacityRequest': {'id': Decimal('56348'), '...  \n",
       "..                                                 ...  \n",
       "328  {'capacityRequest': {'id': Decimal('119594'), ...  \n",
       "329  {'capacityRequest': {'id': Decimal('119594'), ...  \n",
       "330  {'capacityRequest': {'id': Decimal('119594'), ...  \n",
       "331  {'capacityRequest': {'id': Decimal('119594'), ...  \n",
       "332  {'capacityRequest': {'id': Decimal('119594'), ...  \n",
       "\n",
       "[333 rows x 2 columns]"
      ]
     },
     "execution_count": 8,
     "metadata": {},
     "output_type": "execute_result"
    }
   ],
   "source": [
    "df"
   ]
  },
  {
   "cell_type": "code",
   "execution_count": null,
   "metadata": {},
   "outputs": [],
   "source": []
  }
 ],
 "metadata": {
  "kernelspec": {
   "display_name": "Python 3 (ipykernel)",
   "language": "python",
   "name": "python3"
  },
  "language_info": {
   "codemirror_mode": {
    "name": "ipython",
    "version": 3
   },
   "file_extension": ".py",
   "mimetype": "text/x-python",
   "name": "python",
   "nbconvert_exporter": "python",
   "pygments_lexer": "ipython3",
   "version": "3.10.9"
  }
 },
 "nbformat": 4,
 "nbformat_minor": 4
}
