{
 "cells": [
  {
   "cell_type": "code",
   "execution_count": null,
   "id": "46ea1118",
   "metadata": {},
   "outputs": [],
   "source": [
    "import dash\n",
    "from dash import html\n",
    "from dash import dcc\n",
    "from dash.dependencies import Input, Output"
   ]
  },
  {
   "cell_type": "code",
   "execution_count": null,
   "id": "63bac245",
   "metadata": {},
   "outputs": [],
   "source": [
    "# initiate the application\n",
    "app = dash.Dash()"
   ]
  },
  {
   "cell_type": "code",
   "execution_count": null,
   "id": "873929c0",
   "metadata": {},
   "outputs": [],
   "source": [
    "# set the layout of the app\n",
    "app.layout = html.Div([\n",
    "    html.H1('HELLLLOOOOOOOOOO!!!!!!!!'),\n",
    "    html.Div('Dash - trial')\n",
    "])"
   ]
  },
  {
   "cell_type": "code",
   "execution_count": null,
   "id": "9c9b060b",
   "metadata": {},
   "outputs": [],
   "source": [
    "# call the app by running it (by default the port no. is 8050)\n",
    "if __name__ == '__main__':\n",
    "    app.run_server()"
   ]
  },
  {
   "cell_type": "code",
   "execution_count": null,
   "id": "f22ea15e",
   "metadata": {},
   "outputs": [],
   "source": [
    "help(html.Div)"
   ]
  },
  {
   "cell_type": "code",
   "execution_count": 2,
   "id": "aa0ed7a2",
   "metadata": {},
   "outputs": [
    {
     "name": "stderr",
     "output_type": "stream",
     "text": [
      "WARNING: Retrying (Retry(total=4, connect=None, read=None, redirect=None, status=None)) after connection broken by 'NewConnectionError('<pip._vendor.urllib3.connection.HTTPSConnection object at 0x0000013744316740>: Failed to establish a new connection: [Errno 11001] getaddrinfo failed')': /simple/pandas-datareader/\n",
      "WARNING: Retrying (Retry(total=3, connect=None, read=None, redirect=None, status=None)) after connection broken by 'NewConnectionError('<pip._vendor.urllib3.connection.HTTPSConnection object at 0x0000013744316A40>: Failed to establish a new connection: [Errno 11001] getaddrinfo failed')': /simple/pandas-datareader/\n",
      "WARNING: Retrying (Retry(total=2, connect=None, read=None, redirect=None, status=None)) after connection broken by 'NewConnectionError('<pip._vendor.urllib3.connection.HTTPSConnection object at 0x0000013744316D70>: Failed to establish a new connection: [Errno 11001] getaddrinfo failed')': /simple/pandas-datareader/\n",
      "WARNING: Retrying (Retry(total=1, connect=None, read=None, redirect=None, status=None)) after connection broken by 'NewConnectionError('<pip._vendor.urllib3.connection.HTTPSConnection object at 0x0000013744316F20>: Failed to establish a new connection: [Errno 11001] getaddrinfo failed')': /simple/pandas-datareader/\n",
      "WARNING: Retrying (Retry(total=0, connect=None, read=None, redirect=None, status=None)) after connection broken by 'NewConnectionError('<pip._vendor.urllib3.connection.HTTPSConnection object at 0x00000137443170D0>: Failed to establish a new connection: [Errno 11001] getaddrinfo failed')': /simple/pandas-datareader/\n",
      "ERROR: Could not find a version that satisfies the requirement pandas_datareader (from versions: none)\n",
      "ERROR: No matching distribution found for pandas_datareader\n",
      "WARNING: There was an error checking the latest version of pip.\n"
     ]
    }
   ],
   "source": [
    "!pip install pandas_datareader"
   ]
  },
  {
   "cell_type": "code",
   "execution_count": 3,
   "id": "63cb6974",
   "metadata": {},
   "outputs": [
    {
     "ename": "ModuleNotFoundError",
     "evalue": "No module named 'pandas_datareader'",
     "output_type": "error",
     "traceback": [
      "\u001b[1;31m---------------------------------------------------------------------------\u001b[0m",
      "\u001b[1;31mModuleNotFoundError\u001b[0m                       Traceback (most recent call last)",
      "Cell \u001b[1;32mIn[3], line 5\u001b[0m\n\u001b[0;32m      3\u001b[0m \u001b[38;5;28;01mimport\u001b[39;00m \u001b[38;5;21;01mdash_core_components\u001b[39;00m \u001b[38;5;28;01mas\u001b[39;00m \u001b[38;5;21;01mdcc\u001b[39;00m\n\u001b[0;32m      4\u001b[0m \u001b[38;5;28;01mimport\u001b[39;00m \u001b[38;5;21;01mdash_html_components\u001b[39;00m \u001b[38;5;28;01mas\u001b[39;00m \u001b[38;5;21;01mhtml\u001b[39;00m\n\u001b[1;32m----> 5\u001b[0m \u001b[38;5;28;01mfrom\u001b[39;00m \u001b[38;5;21;01mpandas_datareader\u001b[39;00m \u001b[38;5;28;01mimport\u001b[39;00m data \u001b[38;5;28;01mas\u001b[39;00m web\n\u001b[0;32m      6\u001b[0m \u001b[38;5;28;01mfrom\u001b[39;00m \u001b[38;5;21;01mdatetime\u001b[39;00m \u001b[38;5;28;01mimport\u001b[39;00m datetime \u001b[38;5;28;01mas\u001b[39;00m dt\n\u001b[0;32m      7\u001b[0m \u001b[38;5;28;01mimport\u001b[39;00m \u001b[38;5;21;01mplotly\u001b[39;00m\u001b[38;5;21;01m.\u001b[39;00m\u001b[38;5;21;01mgraph_objs\u001b[39;00m \u001b[38;5;28;01mas\u001b[39;00m \u001b[38;5;21;01mgo\u001b[39;00m\n",
      "\u001b[1;31mModuleNotFoundError\u001b[0m: No module named 'pandas_datareader'"
     ]
    }
   ],
   "source": [
    "import dash\n",
    "from dash.dependencies import Input, Output\n",
    "import dash_core_components as dcc\n",
    "import dash_html_components as html\n",
    "from pandas_datareader import data as web\n",
    "from datetime import datetime as dt\n",
    "import plotly.graph_objs as go\n",
    "\n",
    "app = dash.Dash()\n",
    "app.layout = html.Div(children=[\n",
    "    html.H1('Hello Dash', style={'background-image': 'url(https://upload.wikimedia.org/wikipedia/commons/2/22/North_Star_-_invitation_background.png)'})\n",
    "    ])\n",
    "\n",
    "if __name__ == '__main__':\n",
    "    app.run_server(debug=True)"
   ]
  },
  {
   "cell_type": "code",
   "execution_count": null,
   "id": "6efcfb1d",
   "metadata": {},
   "outputs": [],
   "source": [
    "# SUMMARY TABLE FILTERING\n",
    "@app.callback(\n",
    "    Output(\"table_out\", \"figure\"), #the output is the summary table\n",
    "    Input(\"exp-id-filter\", \"value\"),  # input from experiment ID\n",
    "    Input(\"que-code-filter\", \"value\"), # input from question code\n",
    "    Input(\"switch-theme\", \"checked\")\n",
    ")\n",
    "\n",
    "# SUMMARY REPORT FILTERING\n",
    "def update_charts(exp_id, que_code, checked):\n",
    "    # if the question code or experiment Id is empty it will not filter the data\n",
    "    if que_code == \"\":\n",
    "        return no_update\n",
    "    elif exp_id == \"\":\n",
    "        return no_update\n",
    "    # if the question code or experiment Id is selected it will filter the data\n",
    "    else:\n",
    "        filtered_data = sum_subset[(sum_subset[\"Experiment Id\"] == exp_id) & (sum_subset['Question Code'] == que_code)]\n",
    "        \n",
    "    if not checked:\n",
    "        # create new tabular graph based on filtered data\n",
    "        fig3 = go.Figure(data=[go.Table(\n",
    "            header=dict(values=list(['Exp. ID', 'Question Code', 'Block ID', 'LSD', 'MSE', 'P Value', 'F Statistic']),\n",
    "                    #line_color='darkslategray',\n",
    "                    fill_color='#00BCFF',\n",
    "                    font=dict(color=colors['text'], family=\"Courier New\", size=15),\n",
    "                    height = 25,\n",
    "                    align='center'),\n",
    "        cells=dict(values=[filtered_data['Experiment Id'], filtered_data['Question Code'], filtered_data['Block Id'],\n",
    "                          filtered_data['Least Significant Difference'], filtered_data['Mean Squared Error'], \n",
    "                           filtered_data['P Value'], filtered_data['F Statistic']],\n",
    "                   #line_color='darkslategray',\n",
    "                   fill_color=colors['background'],\n",
    "                   font=dict(color=colors['text'], family=\"Courier New\", size=15),\n",
    "                   height = 25,\n",
    "                   align='center'))\n",
    "        ])\n",
    "        fig3.layout.plot_bgcolor = colors['background']\n",
    "        fig3.layout.paper_bgcolor = colors['background']\n",
    "        fig3.update_layout(title = \"ANOVA Report\",\n",
    "                                  font=dict(\n",
    "                                    family=\"Courier New\",\n",
    "                                    size=20,\n",
    "                                    color=colors['text']\n",
    "                                    ),\n",
    "                          height = 400)\n",
    "        #fig3.update_yaxes(automargin = True)\n",
    "        \n",
    "    else:\n",
    "        # create new tabular graph based on filtered data\n",
    "        fig3 = go.Figure(data=[go.Table(\n",
    "            header=dict(values=list(['Exp. ID', 'Question Code', 'Block ID', 'LSD', 'MSE', 'P Value', 'F Statistic']),\n",
    "                    line_color='darkslategray',\n",
    "                    fill_color='#00BCFF',\n",
    "                    font=dict(color='black', family=\"Courier New\", size=15),\n",
    "                    height = 25,\n",
    "                    align='center'),\n",
    "        cells=dict(values=[filtered_data['Experiment Id'], filtered_data['Question Code'], filtered_data['Block Id'],\n",
    "                          filtered_data['Least Significant Difference'], filtered_data['Mean Squared Error'], \n",
    "                           filtered_data['P Value'], filtered_data['F Statistic']],\n",
    "                   line_color='darkslategray',\n",
    "                   fill_color='white',\n",
    "                   font=dict(color='black', family=\"Courier New\", size=15),\n",
    "                   height = 25,\n",
    "                   align='center'))\n",
    "        ])\n",
    "        fig3.layout.plot_bgcolor = 'white'\n",
    "        fig3.layout.paper_bgcolor = 'white'\n",
    "        fig3.update_layout(title = \"ANOVA Report\",\n",
    "                                  font=dict(\n",
    "                                    family=\"Courier New\",\n",
    "                                    size=20,\n",
    "                                    color='black'\n",
    "                                ),\n",
    "                          height = 400)\n",
    "        #fig3.update_yaxes(automargin = True)\n",
    "    \n",
    "    return fig3 #return the summary table according to the filter"
   ]
  }
 ],
 "metadata": {
  "kernelspec": {
   "display_name": "Python 3 (ipykernel)",
   "language": "python",
   "name": "python3"
  },
  "language_info": {
   "codemirror_mode": {
    "name": "ipython",
    "version": 3
   },
   "file_extension": ".py",
   "mimetype": "text/x-python",
   "name": "python",
   "nbconvert_exporter": "python",
   "pygments_lexer": "ipython3",
   "version": "3.10.9"
  }
 },
 "nbformat": 4,
 "nbformat_minor": 5
}
