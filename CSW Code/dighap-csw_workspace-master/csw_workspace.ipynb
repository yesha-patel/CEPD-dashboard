{
 "cells": [
  {
   "cell_type": "markdown",
   "metadata": {},
   "source": [
    "# Crop Science Warehouse Workspace"
   ]
  },
  {
   "cell_type": "markdown",
   "metadata": {},
   "source": [
    "Set the CSW project and the output file you want to use. The file path can be compressed, plain text, local, or in S3:"
   ]
  },
  {
   "cell_type": "code",
   "execution_count": null,
   "metadata": {},
   "outputs": [],
   "source": [
    "project=\"bcs-breeding-datasets\"\n",
    "output_file=\"~/cotton_restricted_or_ambig_tou_inventory.tsv.gz\"\n",
    "import time"
   ]
  },
  {
   "cell_type": "markdown",
   "metadata": {},
   "source": [
    "Run the block below to authenticate. If prompted, click the link, log into Google using your Bayer email, and then copy and paste the provided token into the text field"
   ]
  },
  {
   "cell_type": "code",
   "execution_count": null,
   "metadata": {},
   "outputs": [],
   "source": [
    "from google.cloud import bigquery\n",
    "import smart_open\n",
    "import pydata_google_auth\n",
    "credentials = pydata_google_auth.get_user_credentials(\n",
    "    ['https://www.googleapis.com/auth/bigquery'],\n",
    ")"
   ]
  },
  {
   "cell_type": "markdown",
   "metadata": {},
   "source": [
    "Modify the query string below as needed"
   ]
  },
  {
   "cell_type": "code",
   "execution_count": null,
   "metadata": {},
   "outputs": [],
   "source": [
    "sql_query = '''\n",
    "select haps.Position, haps.AncestralCall \n",
    "from `bcs-breeding-datasets.breeding_genomics.ancestralHaplotypes_maize` as haps \n",
    "where haps.Line='JENU381'\n",
    "  and haps.Chromosome=1\n",
    "  and haps.Position>=100\n",
    "  and haps.Position<=120\n",
    "order by haps.Position\n",
    "\t\t        \n",
    "'''"
   ]
  },
  {
   "cell_type": "markdown",
   "metadata": {},
   "source": [
    "Run the query and download the result handle"
   ]
  },
  {
   "cell_type": "code",
   "execution_count": null,
   "metadata": {},
   "outputs": [],
   "source": [
    "client = bigquery.Client(credentials=credentials, project=project)\n",
    "results = client.query(sql_query).result()"
   ]
  },
  {
   "cell_type": "markdown",
   "metadata": {},
   "source": [
    "Write the results to the output file"
   ]
  },
  {
   "cell_type": "code",
   "execution_count": null,
   "metadata": {
    "scrolled": true
   },
   "outputs": [],
   "source": [
    "writer = smart_open.open(output_file, 'w')\n",
    "i = 0\n",
    "for row in results:\n",
    "    i += 1\n",
    "    if i==1:\n",
    "        writer.write(\"\\t\".join(row.keys()) + \"\\n\")\n",
    "    if (100 * i/results.total_rows) % 5 == 0:\n",
    "        print(str(100 * i/results.total_rows) + \"%\\r\")\n",
    "    writer.write(\"\\t\".join(map(lambda x: str(x) ,row.values())) + \"\\n\")\n",
    "writer.close()"
   ]
  },
  {
   "cell_type": "code",
   "execution_count": null,
   "metadata": {},
   "outputs": [],
   "source": []
  }
 ],
 "metadata": {
  "kernelspec": {
   "display_name": "Python-conda (parHap)",
   "language": "python",
   "name": "parhap"
  },
  "language_info": {
   "codemirror_mode": {
    "name": "ipython",
    "version": 3
   },
   "file_extension": ".py",
   "mimetype": "text/x-python",
   "name": "python",
   "nbconvert_exporter": "python",
   "pygments_lexer": "ipython3",
   "version": "3.8.13"
  }
 },
 "nbformat": 4,
 "nbformat_minor": 4
}
